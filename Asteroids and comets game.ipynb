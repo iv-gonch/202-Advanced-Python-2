{
 "cells": [
  {
   "cell_type": "markdown",
   "metadata": {},
   "source": [
    "# Астероиды и кометы"
   ]
  },
  {
   "cell_type": "markdown",
   "metadata": {},
   "source": [
    "## Заложим основы"
   ]
  },
  {
   "cell_type": "code",
   "execution_count": 43,
   "metadata": {},
   "outputs": [],
   "source": [
    "import numba as nb\n",
    "import random\n",
    "import numpy as np\n",
    "import pandas as pd\n",
    "import matplotlib.pyplot as plt\n",
    "import unittest\n",
    "from pathlib import Path\n",
    "from PIL import Image\n",
    "from IPython.display import clear_output\n",
    "from IPython.core.interactiveshell import InteractiveShell\n",
    "from IPython import display\n",
    "from tqdm import tqdm\n",
    "from dataclasses import dataclass\n",
    "\n",
    "dt = 1e-3\n",
    "G = 6,7e-11\n",
    "au = 149597870700\n",
    "\n",
    "InteractiveShell.ast_node_interactivity = \"all\""
   ]
  },
  {
   "cell_type": "markdown",
   "metadata": {},
   "source": [
    "### Зададим объект\n",
    "В моей программе только один класс, поскольку принципиальных различий между реальными небесными телами нет"
   ]
  },
  {
   "cell_type": "code",
   "execution_count": 44,
   "metadata": {},
   "outputs": [],
   "source": [
    "@dataclass\n",
    "class CosmicBody:   \n",
    "    existance: bool\n",
    "    mass: float\n",
    "    obj_radius: float\n",
    "    radius_vec: np.array\n",
    "    velocity_vec: np.array\n"
   ]
  },
  {
   "cell_type": "markdown",
   "metadata": {},
   "source": [
    "### Зададим методы\n",
    "Их будет всего два:\n",
    "- Рассчёт изменений всех параметров системы за dt (учитывает 2 возможных сценария: смещение и столкновение)\n",
    "- Определение типа траектории"
   ]
  },
  {
   "cell_type": "code",
   "execution_count": 47,
   "metadata": {},
   "outputs": [
    {
     "ename": "TypeError",
     "evalue": "can't multiply sequence by non-int of type 'float'",
     "output_type": "error",
     "traceback": [
      "\u001b[1;31m---------------------------------------------------------------------------\u001b[0m",
      "\u001b[1;31mTypeError\u001b[0m                                 Traceback (most recent call last)",
      "\u001b[1;32m~\\AppData\\Local\\Temp/ipykernel_40636/2357455657.py\u001b[0m in \u001b[0;36m<module>\u001b[1;34m\u001b[0m\n\u001b[0;32m     26\u001b[0m \u001b[0mBody3\u001b[0m \u001b[1;33m=\u001b[0m \u001b[0mCosmicBody\u001b[0m\u001b[1;33m(\u001b[0m\u001b[1;36m1\u001b[0m\u001b[1;33m,\u001b[0m \u001b[1;36m5\u001b[0m\u001b[1;33m,\u001b[0m   \u001b[1;36m2\u001b[0m\u001b[1;33m,\u001b[0m  \u001b[1;33m[\u001b[0m\u001b[1;36m10\u001b[0m\u001b[1;33m,\u001b[0m \u001b[1;36m0\u001b[0m\u001b[1;33m,\u001b[0m \u001b[1;36m12\u001b[0m\u001b[1;33m]\u001b[0m\u001b[1;33m,\u001b[0m \u001b[1;33m[\u001b[0m\u001b[1;36m10\u001b[0m\u001b[1;33m,\u001b[0m \u001b[1;36m0\u001b[0m\u001b[1;33m,\u001b[0m \u001b[1;33m-\u001b[0m\u001b[1;36m10\u001b[0m\u001b[1;33m]\u001b[0m\u001b[1;33m)\u001b[0m\u001b[1;33m\u001b[0m\u001b[1;33m\u001b[0m\u001b[0m\n\u001b[0;32m     27\u001b[0m \u001b[1;33m\u001b[0m\u001b[0m\n\u001b[1;32m---> 28\u001b[1;33m \u001b[0mdtChange\u001b[0m\u001b[1;33m(\u001b[0m\u001b[0msyst\u001b[0m\u001b[1;33m=\u001b[0m\u001b[1;33m[\u001b[0m\u001b[0mBig\u001b[0m\u001b[1;33m,\u001b[0m \u001b[0mBody1\u001b[0m\u001b[1;33m,\u001b[0m \u001b[0mBody2\u001b[0m\u001b[1;33m,\u001b[0m \u001b[0mBody3\u001b[0m\u001b[1;33m]\u001b[0m\u001b[1;33m)\u001b[0m\u001b[1;33m\u001b[0m\u001b[1;33m\u001b[0m\u001b[0m\n\u001b[0m",
      "\u001b[1;32m~\\AppData\\Local\\Temp/ipykernel_40636/2357455657.py\u001b[0m in \u001b[0;36mdtChange\u001b[1;34m(syst)\u001b[0m\n\u001b[0;32m      6\u001b[0m         \u001b[1;32mfor\u001b[0m \u001b[0mj\u001b[0m \u001b[1;32min\u001b[0m \u001b[0mrange\u001b[0m\u001b[1;33m(\u001b[0m\u001b[0mlen\u001b[0m\u001b[1;33m(\u001b[0m\u001b[0msyst\u001b[0m\u001b[1;33m)\u001b[0m\u001b[1;33m)\u001b[0m \u001b[1;33m:\u001b[0m\u001b[1;33m\u001b[0m\u001b[1;33m\u001b[0m\u001b[0m\n\u001b[0;32m      7\u001b[0m             \u001b[1;32mif\u001b[0m \u001b[0mj\u001b[0m \u001b[1;33m!=\u001b[0m \u001b[0mi\u001b[0m\u001b[1;33m:\u001b[0m\u001b[1;33m\u001b[0m\u001b[1;33m\u001b[0m\u001b[0m\n\u001b[1;32m----> 8\u001b[1;33m                 \u001b[0msyst\u001b[0m\u001b[1;33m[\u001b[0m\u001b[0mi\u001b[0m\u001b[1;33m]\u001b[0m\u001b[1;33m.\u001b[0m\u001b[0mvelocity_vec\u001b[0m \u001b[1;33m+=\u001b[0m \u001b[0mnp\u001b[0m\u001b[1;33m.\u001b[0m\u001b[0mdot\u001b[0m\u001b[1;33m(\u001b[0m\u001b[0mG\u001b[0m\u001b[1;33m*\u001b[0m\u001b[0mdt\u001b[0m\u001b[1;33m/\u001b[0m\u001b[0mnp\u001b[0m\u001b[1;33m.\u001b[0m\u001b[0mlinalg\u001b[0m\u001b[1;33m.\u001b[0m\u001b[0mnorm\u001b[0m\u001b[1;33m(\u001b[0m\u001b[0msyst\u001b[0m\u001b[1;33m[\u001b[0m\u001b[0mj\u001b[0m\u001b[1;33m]\u001b[0m\u001b[1;33m.\u001b[0m\u001b[0mradius_vec\u001b[0m \u001b[1;33m-\u001b[0m \u001b[0msyst\u001b[0m\u001b[1;33m[\u001b[0m\u001b[0mi\u001b[0m\u001b[1;33m]\u001b[0m\u001b[1;33m.\u001b[0m\u001b[0mradius_vec\u001b[0m\u001b[1;33m)\u001b[0m\u001b[1;33m**\u001b[0m\u001b[1;36m3\u001b[0m \u001b[1;33m,\u001b[0m \u001b[0msyst\u001b[0m\u001b[1;33m[\u001b[0m\u001b[0mj\u001b[0m\u001b[1;33m]\u001b[0m\u001b[1;33m.\u001b[0m\u001b[0mmass\u001b[0m\u001b[1;33m*\u001b[0m\u001b[1;33m(\u001b[0m\u001b[0msyst\u001b[0m\u001b[1;33m[\u001b[0m\u001b[0mj\u001b[0m\u001b[1;33m]\u001b[0m\u001b[1;33m.\u001b[0m\u001b[0mradius_vec\u001b[0m \u001b[1;33m-\u001b[0m \u001b[0msyst\u001b[0m\u001b[1;33m[\u001b[0m\u001b[0mi\u001b[0m\u001b[1;33m]\u001b[0m\u001b[1;33m.\u001b[0m\u001b[0mradius_vec\u001b[0m\u001b[1;33m)\u001b[0m\u001b[1;33m)\u001b[0m\u001b[1;33m\u001b[0m\u001b[1;33m\u001b[0m\u001b[0m\n\u001b[0m\u001b[0;32m      9\u001b[0m \u001b[1;33m\u001b[0m\u001b[0m\n\u001b[0;32m     10\u001b[0m     \u001b[1;32mfor\u001b[0m \u001b[0mi\u001b[0m \u001b[1;32min\u001b[0m \u001b[0mrange\u001b[0m\u001b[1;33m(\u001b[0m\u001b[0mlen\u001b[0m\u001b[1;33m(\u001b[0m\u001b[0msyst\u001b[0m\u001b[1;33m)\u001b[0m\u001b[1;33m)\u001b[0m\u001b[1;33m:\u001b[0m\u001b[1;33m\u001b[0m\u001b[1;33m\u001b[0m\u001b[0m\n",
      "\u001b[1;31mTypeError\u001b[0m: can't multiply sequence by non-int of type 'float'"
     ]
    }
   ],
   "source": [
    "def dtChange(syst):\n",
    "    for i in range(len(syst)):\n",
    "        syst[i].radius_vec += np.dot(syst[i].velocity_vec, dt)\n",
    "        \n",
    "    for i in range(len(syst)):\n",
    "        for j in range(len(syst)) :\n",
    "            if j != i:\n",
    "                syst[i].velocity_vec += np.dot(G*dt/np.linalg.norm(syst[j].radius_vec - syst[i].radius_vec)**3 , syst[j].mass*(syst[j].radius_vec - syst[i].radius_vec))\n",
    "    \n",
    "    for i in range(len(syst)):\n",
    "        for j in range(len(syst)) :\n",
    "            if j != i:\n",
    "                if np.linalg.norm(syst[j].radius_vec - syst[i].radius_vec) < syst[i].obj_radius | np.linalg.norm(syst[j].radius_vec - syst[i].radius_vec) < syst[j].obj_radius:\n",
    "                    syst[i].mass += syst[j].mass\n",
    "                    syst[i].radius_vec += np.dot(syst[j].mass/(syst[j].mass+syst[i].mass), (syst[j].radius_vec - syst[i].radius_vec))\n",
    "                    syst[i].obj_radius *= (1 + (syst[i].mass / syst[j].mass)) ** (1/3)\n",
    "                    syst[j].mass = 0\n",
    "                    syst[j].obj_radius = 0\n",
    "                    syst[j].velocity_vec = 0\n",
    "                    syst[j].radius_vec = 0\n",
    "\n",
    "\n",
    "Big   = CosmicBody(1, 100, 10, [0,0,0],     [0, 0, 0])\n",
    "Body1 = CosmicBody(1, 0.5, 1,  [15, 1, 0],  [0, -0.5, 10])\n",
    "Body2 = CosmicBody(1, 20,  30, [0, 3, 50],  [20, -5, 0])\n",
    "Body3 = CosmicBody(1, 5,   2,  [10, 0, 12], [10, 0, -10])\n",
    "\n",
    "dtChange(syst=[Big, Body1, Body2, Body3])"
   ]
  },
  {
   "cell_type": "code",
   "execution_count": null,
   "metadata": {},
   "outputs": [
    {
     "ename": "NameError",
     "evalue": "name 'dtChange' is not defined",
     "output_type": "error",
     "traceback": [
      "\u001b[1;31m---------------------------------------------------------------------------\u001b[0m",
      "\u001b[1;31mNameError\u001b[0m                                 Traceback (most recent call last)",
      "\u001b[1;32m~\\AppData\\Local\\Temp/ipykernel_40636/2236205672.py\u001b[0m in \u001b[0;36m<module>\u001b[1;34m\u001b[0m\n\u001b[0;32m      4\u001b[0m \u001b[0mBody3\u001b[0m \u001b[1;33m=\u001b[0m \u001b[0mCosmicBody\u001b[0m\u001b[1;33m(\u001b[0m\u001b[1;36m1\u001b[0m\u001b[1;33m,\u001b[0m \u001b[1;36m5\u001b[0m\u001b[1;33m,\u001b[0m   \u001b[1;36m2\u001b[0m\u001b[1;33m,\u001b[0m  \u001b[1;33m[\u001b[0m\u001b[1;36m10\u001b[0m\u001b[1;33m,\u001b[0m \u001b[1;36m0\u001b[0m\u001b[1;33m,\u001b[0m \u001b[1;36m12\u001b[0m\u001b[1;33m]\u001b[0m\u001b[1;33m,\u001b[0m \u001b[1;33m[\u001b[0m\u001b[1;36m10\u001b[0m\u001b[1;33m,\u001b[0m \u001b[1;36m0\u001b[0m\u001b[1;33m,\u001b[0m \u001b[1;33m-\u001b[0m\u001b[1;36m10\u001b[0m\u001b[1;33m]\u001b[0m\u001b[1;33m)\u001b[0m\u001b[1;33m\u001b[0m\u001b[1;33m\u001b[0m\u001b[0m\n\u001b[0;32m      5\u001b[0m \u001b[1;33m\u001b[0m\u001b[0m\n\u001b[1;32m----> 6\u001b[1;33m \u001b[0mdtChange\u001b[0m\u001b[1;33m(\u001b[0m\u001b[0msyst\u001b[0m\u001b[1;33m=\u001b[0m\u001b[1;33m[\u001b[0m\u001b[0mBig\u001b[0m\u001b[1;33m,\u001b[0m \u001b[0mBody1\u001b[0m\u001b[1;33m,\u001b[0m \u001b[0mBody2\u001b[0m\u001b[1;33m,\u001b[0m \u001b[0mBody3\u001b[0m\u001b[1;33m]\u001b[0m\u001b[1;33m)\u001b[0m\u001b[1;33m\u001b[0m\u001b[1;33m\u001b[0m\u001b[0m\n\u001b[0m",
      "\u001b[1;31mNameError\u001b[0m: name 'dtChange' is not defined"
     ]
    }
   ],
   "source": [
    "'''Big   = CosmicBody(1, 100, 10, [0,0,0],     [0, 0, 0])\n",
    "Body1 = CosmicBody(1, 0.5, 1,  [15, 1, 0],  [0, -0.5, 10])\n",
    "Body2 = CosmicBody(1, 20,  30, [0, 3, 50],  [20, -5, 0])\n",
    "Body3 = CosmicBody(1, 5,   2,  [10, 0, 12], [10, 0, -10])\n",
    "\n",
    "dtChange(syst=[Big, Body1, Body2, Body3])'''"
   ]
  },
  {
   "cell_type": "code",
   "execution_count": null,
   "metadata": {},
   "outputs": [],
   "source": [
    "def plotter(syst):\n",
    "    \"\"\"\n",
    "    The basic function to plot orbits of bodies.\n",
    "    Can be used for 2 and 3 dimensional space.\n",
    "    Show plot.\n",
    "\n",
    "    Parameters\n",
    "    ----------\n",
    "    dim : int64 (2 or 3)\n",
    "        Dimension of space\n",
    "    Sun : object of class Body\n",
    "    syst : list of objects of class Body\n",
    "    \"\"\"\n",
    "    \n",
    "    fig = plt.figure(figsize=(100, 100))\n",
    "    ax = fig.add_subplot(111, projection='3d')\n",
    "    ax.axes.set_xlim3d(-100, 100)\n",
    "    ax.axes.set_ylim3d(-100, 100)\n",
    "    ax.axes.set_zlim3d(-80, 80)\n",
    "\n",
    "    '''u = np.linspace(0, 2 * np.pi, 100)\n",
    "    v = np.linspace(0, np.pi, 100)\n",
    "\n",
    "    x = Sun.R * np.outer(np.cos(u), np.sin(v))\n",
    "    y = Sun.R * np.outer(np.sin(u), np.sin(v))\n",
    "    z = Sun.R * np.outer(np.ones(np.size(u)), np.cos(v))\n",
    "    ax.plot_surface(x, y, z, rstride=4, cstride=4, color='r', linewidth=0, alpha=0.5)\n",
    "    ax.plot_surface(x, y, -z, rstride=4, cstride=4, color='r', linewidth=0, alpha=0.5)\n",
    "    '''\n",
    "    for i in range(len(syst)):\n",
    "        plt.scatter(syst[i].radius_vec[:, 0], syst[i].radius_vec[:, 1], syst[i].radius_vec[:, 2], s=1)\n",
    "\n",
    "    plt.show()"
   ]
  }
 ],
 "metadata": {
  "interpreter": {
   "hash": "4ce0e62306dd6a5716965d4519ada776f947e6dfc145b604b11307c10277ef29"
  },
  "kernelspec": {
   "display_name": "Python 3.9.5 64-bit ('base': conda)",
   "language": "python",
   "name": "python3"
  },
  "language_info": {
   "codemirror_mode": {
    "name": "ipython",
    "version": 3
   },
   "file_extension": ".py",
   "mimetype": "text/x-python",
   "name": "python",
   "nbconvert_exporter": "python",
   "pygments_lexer": "ipython3",
   "version": "3.9.5"
  },
  "orig_nbformat": 4
 },
 "nbformat": 4,
 "nbformat_minor": 2
}
