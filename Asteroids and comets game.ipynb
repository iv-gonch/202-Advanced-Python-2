{
 "cells": [
  {
   "cell_type": "markdown",
   "metadata": {},
   "source": [
    "# Астероиды и кометы"
   ]
  },
  {
   "cell_type": "markdown",
   "metadata": {},
   "source": [
    "## Заложим основы"
   ]
  },
  {
   "cell_type": "code",
   "execution_count": 239,
   "metadata": {},
   "outputs": [],
   "source": [
    "import numba as nb\n",
    "import random\n",
    "import math\n",
    "import numpy as np\n",
    "import pandas as pd\n",
    "import matplotlib.pyplot as plt\n",
    "import unittest\n",
    "from pathlib import Path\n",
    "from PIL import Image\n",
    "from IPython.display import clear_output\n",
    "from IPython.core.interactiveshell import InteractiveShell\n",
    "from IPython import display\n",
    "from tqdm import tqdm\n",
    "from dataclasses import dataclass\n",
    "from numba import njit\n",
    "\n",
    "dt = 1e-3\n",
    "G = 6.7e-1\n",
    "au = 149597870700\n",
    "\n",
    "InteractiveShell.ast_node_interactivity = \"all\""
   ]
  },
  {
   "cell_type": "markdown",
   "metadata": {},
   "source": [
    "### Зададим объект\n",
    "В моей программе только один класс, поскольку принципиальных различий между реальными небесными телами нет"
   ]
  },
  {
   "cell_type": "code",
   "execution_count": 240,
   "metadata": {},
   "outputs": [],
   "source": [
    "@dataclass\n",
    "class CosmicBody: \n",
    "    existance: bool  \n",
    "    mass: float\n",
    "    obj_radius: float\n",
    "    radius_vec: np.array\n",
    "    velocity_vec: np.array\n",
    "    colour: str "
   ]
  },
  {
   "cell_type": "markdown",
   "metadata": {},
   "source": [
    "### Зададим методы\n",
    "Их будет всего два:\n",
    "- Рассчёт изменений всех параметров системы за dt (учитывает 2 возможных сценария: смещение и столкновение)\n",
    "- Определение типа траектории"
   ]
  },
  {
   "cell_type": "code",
   "execution_count": 241,
   "metadata": {},
   "outputs": [],
   "source": [
    "#@njit\n",
    "def dtChange(syst):\n",
    "    for i in range(len(syst)):\n",
    "        if syst[i].existance == True:\n",
    "            syst[i].radius_vec += np.dot(dt, syst[i].velocity_vec)\n",
    "    \n",
    "    for i in range(len(syst)):\n",
    "        if syst[i].existance == True:\n",
    "            for j in range(len(syst)):\n",
    "                if syst[j].existance == True:\n",
    "                    if j != i:\n",
    "                        dr = np.array(syst[j].radius_vec) - np.array(syst[i].radius_vec)\n",
    "                        syst[i].velocity_vec += np.dot(G*dt/(np.linalg.norm(dr)**3)*syst[j].mass, dr)\n",
    " \n",
    "    #'''         Не работает столкновение! Без условия i != j Всегда True\n",
    "    for i in range(len(syst)):\n",
    "        if syst[i].existance == True:\n",
    "            for j in range(len(syst)):\n",
    "                if syst[j].existance == True:\n",
    "                    if i != j: # Не работает столкновение! Не сталкивается вообще\n",
    "                        if syst[i].mass >= syst[j].mass:\n",
    "                            dr = np.linalg.norm(np.array(syst[j].radius_vec) - np.array(syst[i].radius_vec))\n",
    "                            # Разобраться с размерами тел и размерами координат. Узнать почему не рисуется траектория вообще, если произошло столкновение\n",
    "                            if dr < syst[i].obj_radius:\n",
    "                                #print(np.linalg.norm(dr), '___', syst[i].obj_radius, '####')\n",
    "                                #syst[i].velocit_vec = ( (syst[i].mass*syst[i].velocity_vec)^2 + (syst[j].mass*syst[j].velocity_vec)^2 + 2*cos(np.arccos(np.clip(np.dot(syst[i].velocity_vec, syst[j].velocity_vec), -1.0, 1.0))))**0.5/(syst[i].mass + syst[j].mass)\n",
    "                                # выше попытка вычислить ЗСИ\n",
    "                                syst[j].existance = False\n",
    "                                syst[i].mass += syst[j].mass\n",
    "                                syst[i].radius_vec += np.dot(syst[j].mass/(syst[j].mass+syst[i].mass), dr)\n",
    "                                syst[i].obj_radius *= (syst[j].mass / syst[i].mass + 1)**(1/3)\n",
    "                                continue\n",
    "    #'''\n",
    "                                      \n",
    "    for i in range(len(syst)):\n",
    "        if syst[i].existance == True:\n",
    "            if np.linalg.norm(syst[i].radius_vec) > 100:\n",
    "                syst[j].existance = False\n",
    "\n",
    "    return syst"
   ]
  },
  {
   "cell_type": "code",
   "execution_count": 242,
   "metadata": {},
   "outputs": [],
   "source": [
    "def OrbitType(syst ,CosmicBody):\n",
    "    \n",
    "    E_k = CosmicBody.mass *  np.linalg.norm(CosmicBody.velocity_vec) ** 2 / 2\n",
    "    \n",
    "    E_p = 0.0\n",
    "    for i in range(len(syst)):\n",
    "        if syst[i].existance == True:\n",
    "            for j in range(len(syst)):\n",
    "                if syst[j].existance == True:\n",
    "                    dr = np.array(syst[j].radius_vec) - np.array(syst[i].radius_vec)\n",
    "                    if  np.linalg.norm(dr) > 0:\n",
    "                        E_p += G * syst[i].mass * syst[j].mass / np.linalg.norm(dr)\n",
    "    \n",
    "    if E_k - E_p > 0:\n",
    "        print('hyp')\n",
    "    if E_k - E_p == 0:\n",
    "        print('parab')\n",
    "    if E_k - E_p < 0:\n",
    "        print('Ellip')"
   ]
  },
  {
   "cell_type": "code",
   "execution_count": 243,
   "metadata": {},
   "outputs": [],
   "source": [
    "def plotter(syst):\n",
    "        \"\"\"\n",
    "        The basic function to plot orbits of bodies.\n",
    "        Can be used for 2 and 3 dimensional space.\n",
    "        Show plot.\n",
    "\n",
    "        Parameters\n",
    "        ----------\n",
    "        syst : list of objects of class Body\n",
    "        \"\"\"\n",
    "\n",
    "        X_coord = np.zeros((len(syst), 1000000))\n",
    "        Y_coord = np.zeros((len(syst), 1000000))\n",
    "        #Z_coord = np.arange(len(syst)*1000000).reshape(len(syst),1000000)\n",
    "        \n",
    "        for i in range(10000):\n",
    "                syst = dtChange(syst)\n",
    "                for j in range(len(syst)):\n",
    "                        if syst[j].existance == True:\n",
    "                                X_coord[j][i] = syst[j].radius_vec[0]\n",
    "                                Y_coord[j][i] = syst[j].radius_vec[1]\n",
    "\n",
    "        plt.figure(figsize=(10, 10))\n",
    "        plt.xlim(-15, 15)\n",
    "        plt.ylim(-15, 15)\n",
    "\n",
    "        for j in range(len(syst)):\n",
    "                plt.scatter(X_coord[j,0], Y_coord[j,0], s=10, c = 'k')\n",
    "                plt.scatter(X_coord[j], Y_coord[j], s=0.01, c = syst[j].colour)\n",
    "        '''\n",
    "        plt.scatter(X_coord[1], Y_coord[1], s=1, c = 'g')\n",
    "        plt.scatter(X_coord[2], Y_coord[2], s=1, c = 'b')\n",
    "        plt.scatter(X_coord[3], Y_coord[3], s=1, c = 'black')'''\n",
    "        for j in range(len(syst)):\n",
    "                if syst[j].existance == True:\n",
    "                        plt.scatter(X_coord[j,9999], Y_coord[j,9999], s=syst[j].obj_radius*1000, c = syst[j].colour)\n",
    "        # plt.scatter(0, 0, s=300000, c = 'r')  s = 300 000 := 30 клеток. Поэтому домножаем на 10 000 радиус\n",
    "        plt.show()\n",
    "\n",
    "        '''for i in range(len(syst)):\n",
    "                plt.scatter(X_coord[i], Y_coord[i], s=1)\n",
    "\n",
    "        u = np.linspace(0, 2 * np.pi, 100)\n",
    "        v = np.linspace(0, np.pi, 100)\n",
    "\n",
    "        x = syst[0].obj_radius * np.outer(np.cos(u), np.sin(v))\n",
    "        y = syst[0].obj_radius * np.outer(np.sin(u), np.sin(v))\n",
    "        z = syst[0].obj_radius * np.outer(np.ones(np.size(u)), np.cos(v))\n",
    "        plt.plot_surface(x, y, z, rstride=4, cstride=4, color='r', linewidth=0, alpha=0.5)\n",
    "        plt.plot_surface(x, y, -z, rstride=4, cstride=4, color='r', linewidth=0, alpha=0.5)'''\n",
    "\n",
    "        \n",
    "        '''\n",
    "        star = plt.Circle((0, 0), syst[0].obj_radius, color='r')\n",
    "        plt.gca().add_patch(star)'''"
   ]
  },
  {
   "cell_type": "markdown",
   "metadata": {},
   "source": [
    "### Тесты"
   ]
  },
  {
   "cell_type": "code",
   "execution_count": 244,
   "metadata": {},
   "outputs": [
    {
     "data": {
      "image/png": "[encoded data removed]",
      "text/plain": [
       "<Figure size 720x720 with 1 Axes>"
      ]
     },
     "metadata": {
      "needs_background": "light"
     },
     "output_type": "display_data"
    },
    {
     "name": "stdout",
     "output_type": "stream",
     "text": [
      "Ellip\n"
     ]
    }
   ],
   "source": [
    "#             existance    mass     obj_radius  radius_vec      velocity_vec   colour\n",
    "Big   = CosmicBody(True,   1000,    2,          [0.0,0.0],      [.0, .0],      'r') \n",
    "Body1 = CosmicBody(True,   1,       0.1,          [-3.0, 2.0],    [.0, -15.0],   'g')\n",
    "Body2 = CosmicBody(True,   20,      0.2,          [10.0, -5.0],   [-2.0, 7.0],   'b')\n",
    "Body3 = CosmicBody(True,   5,       0.05,        [7.0, -7.0],    [5.0, .0],     'm')\n",
    "\n",
    "syst  = [Big, Body1, Body2, Body3]\n",
    "plotter(syst)\n",
    "OrbitType(syst, Body1)"
   ]
  }
 ],
 "metadata": {
  "interpreter": {
   "hash": "4ce0e62306dd6a5716965d4519ada776f947e6dfc145b604b11307c10277ef29"
  },
  "kernelspec": {
   "display_name": "Python 3.9.5 64-bit ('base': conda)",
   "language": "python",
   "name": "python3"
  },
  "language_info": {
   "codemirror_mode": {
    "name": "ipython",
    "version": 3
   },
   "file_extension": ".py",
   "mimetype": "text/x-python",
   "name": "python",
   "nbconvert_exporter": "python",
   "pygments_lexer": "ipython3",
   "version": "3.9.5"
  },
  "orig_nbformat": 4
 },
 "nbformat": 4,
 "nbformat_minor": 2
}
