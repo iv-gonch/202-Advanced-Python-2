{
 "cells": [
  {
   "cell_type": "markdown",
   "metadata": {},
   "source": [
    "# Астероиды и кометы"
   ]
  },
  {
   "cell_type": "markdown",
   "metadata": {},
   "source": [
    "## Заложим основы"
   ]
  },
  {
   "cell_type": "code",
   "execution_count": 97,
   "metadata": {},
   "outputs": [],
   "source": [
    "import numba as nb\n",
    "import random\n",
    "import numpy as np\n",
    "import pandas as pd\n",
    "import matplotlib.pyplot as plt\n",
    "import unittest\n",
    "from pathlib import Path\n",
    "from PIL import Image\n",
    "from IPython.display import clear_output\n",
    "from IPython.core.interactiveshell import InteractiveShell\n",
    "from IPython import display\n",
    "from tqdm import tqdm\n",
    "from dataclasses import dataclass\n",
    "\n",
    "dt = 1e-3\n",
    "G = 6.7e-11\n",
    "au = 149597870700\n",
    "\n",
    "InteractiveShell.ast_node_interactivity = \"all\""
   ]
  },
  {
   "cell_type": "markdown",
   "metadata": {},
   "source": [
    "### Зададим объект\n",
    "В моей программе только один класс, поскольку принципиальных различий между реальными небесными телами нет"
   ]
  },
  {
   "cell_type": "code",
   "execution_count": 59,
   "metadata": {},
   "outputs": [],
   "source": [
    "@dataclass\n",
    "class CosmicBody:   \n",
    "    mass: float\n",
    "    obj_radius: float\n",
    "    radius_vec: np.array\n",
    "    velocity_vec: np.array\n"
   ]
  },
  {
   "cell_type": "markdown",
   "metadata": {},
   "source": [
    "### Зададим методы\n",
    "Их будет всего два:\n",
    "- Рассчёт изменений всех параметров системы за dt (учитывает 2 возможных сценария: смещение и столкновение)\n",
    "- Определение типа траектории"
   ]
  },
  {
   "cell_type": "code",
   "execution_count": 116,
   "metadata": {},
   "outputs": [],
   "source": [
    "def dtChange(syst):\n",
    "    for i in range(len(syst)):\n",
    "        syst[i].radius_vec += np.dot(dt, syst[i].velocity_vec)\n",
    "\n",
    "        \n",
    "    for i in range(len(syst)):\n",
    "        for j in range(len(syst)):\n",
    "            if j != i:\n",
    "                dr = np.array(syst[j].radius_vec) - np.array(syst[i].radius_vec)\n",
    "                syst[i].velocity_vec += np.dot(G*dt/(np.linalg.norm(dr)**3)*syst[j].mass, dr)\n",
    "    \n",
    "    for i in range(len(syst)):\n",
    "        for j in range(len(syst)) :\n",
    "            if syst[i].mass >= syst[j].mass:\n",
    "                dr = np.array(syst[j].radius_vec) - np.array(syst[i].radius_vec)\n",
    "                if np.linalg.norm(dr) < syst[i].obj_radius:\n",
    "                    syst[i].mass += syst[j].mass\n",
    "                    syst[i].radius_vec += np.dot(syst[j].mass/(syst[j].mass+syst[i].mass), dr)\n",
    "                    syst[i].obj_radius *= (1 + (syst[i].mass / syst[j].mass)) ** (1/3)\n",
    "                    syst[j].mass = 0\n",
    "                    syst[j].obj_radius = 0\n",
    "                    syst[j].velocity_vec = 0\n",
    "                    syst[j].radius_vec = 0"
   ]
  },
  {
   "cell_type": "markdown",
   "metadata": {},
   "source": [
    "### Тесты"
   ]
  },
  {
   "cell_type": "code",
   "execution_count": 117,
   "metadata": {},
   "outputs": [
    {
     "name": "stderr",
     "output_type": "stream",
     "text": [
      "C:\\Users\\ivang\\AppData\\Local\\Temp/ipykernel_40636/2736731396.py:10: RuntimeWarning: divide by zero encountered in double_scalars\n",
      "  syst[i].velocity_vec += np.dot(G*dt/(np.linalg.norm(dr)**3)*syst[j].mass, dr)\n",
      "C:\\Users\\ivang\\AppData\\Local\\Temp/ipykernel_40636/2736731396.py:10: RuntimeWarning: invalid value encountered in double_scalars\n",
      "  syst[i].velocity_vec += np.dot(G*dt/(np.linalg.norm(dr)**3)*syst[j].mass, dr)\n"
     ]
    }
   ],
   "source": [
    "Big   = CosmicBody(100, 10, [0,0,0], [0, 0, 0])\n",
    "Body1 = CosmicBody(0.5, 1,  [15, 1, 0],  [0, -0.5, 10])\n",
    "Body2 = CosmicBody(20,  30, [0, 3, 50],  [20, -5, 0])\n",
    "Body3 = CosmicBody(5,   2,  [10, 0, 12], [10, 0, -10])\n",
    "\n",
    "for n in range(400):\n",
    "    dtChange(syst=[Big, Body1, Body2, Body3])\n",
    "\n"
   ]
  },
  {
   "cell_type": "markdown",
   "metadata": {},
   "source": [
    "### Визуализация"
   ]
  }
 ],
 "metadata": {
  "interpreter": {
   "hash": "4ce0e62306dd6a5716965d4519ada776f947e6dfc145b604b11307c10277ef29"
  },
  "kernelspec": {
   "display_name": "Python 3.9.5 64-bit ('base': conda)",
   "language": "python",
   "name": "python3"
  },
  "language_info": {
   "codemirror_mode": {
    "name": "ipython",
    "version": 3
   },
   "file_extension": ".py",
   "mimetype": "text/x-python",
   "name": "python",
   "nbconvert_exporter": "python",
   "pygments_lexer": "ipython3",
   "version": "3.9.5"
  },
  "orig_nbformat": 4
 },
 "nbformat": 4,
 "nbformat_minor": 2
}
